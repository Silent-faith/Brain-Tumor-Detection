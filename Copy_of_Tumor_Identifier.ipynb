{
  "nbformat": 4,
  "nbformat_minor": 0,
  "metadata": {
    "colab": {
      "name": "Copy of Tumor Identifier.ipynb",
      "provenance": []
    },
    "kernelspec": {
      "name": "python3",
      "display_name": "Python 3"
    }
  },
  "cells": [
    {
      "cell_type": "markdown",
      "metadata": {
        "id": "FVkMUqMKbiZp",
        "colab_type": "text"
      },
      "source": [
        "# Mounting the google drive "
      ]
    },
    {
      "cell_type": "code",
      "metadata": {
        "id": "pqqipy-Mh40f",
        "colab_type": "code",
        "colab": {}
      },
      "source": [
        "import numpy as np \n",
        "import pandas as pd \n",
        "import matplotlib.pyplot as plt \n",
        "import tensorflow as tf \n",
        "\n",
        "#for importing data from drive\n",
        "from pydrive.auth import GoogleAuth\n",
        "from pydrive.drive import GoogleDrive\n",
        "from google.colab import auth\n",
        "from oauth2client.client import GoogleCredentials"
      ],
      "execution_count": null,
      "outputs": []
    },
    {
      "cell_type": "code",
      "metadata": {
        "id": "rqbfhqFmaxVT",
        "colab_type": "code",
        "colab": {
          "base_uri": "https://localhost:8080/",
          "height": 122
        },
        "outputId": "4d7227b8-3a2f-46fc-9d47-16e2c88896ba"
      },
      "source": [
        "#mounting the drive\n",
        "from google.colab import drive\n",
        "drive.mount('/content/gdrive')"
      ],
      "execution_count": null,
      "outputs": [
        {
          "output_type": "stream",
          "text": [
            "Go to this URL in a browser: https://accounts.google.com/o/oauth2/auth?client_id=947318989803-6bn6qk8qdgf4n4g3pfee6491hc0brc4i.apps.googleusercontent.com&redirect_uri=urn%3aietf%3awg%3aoauth%3a2.0%3aoob&scope=email%20https%3a%2f%2fwww.googleapis.com%2fauth%2fdocs.test%20https%3a%2f%2fwww.googleapis.com%2fauth%2fdrive%20https%3a%2f%2fwww.googleapis.com%2fauth%2fdrive.photos.readonly%20https%3a%2f%2fwww.googleapis.com%2fauth%2fpeopleapi.readonly&response_type=code\n",
            "\n",
            "Enter your authorization code:\n",
            "··········\n",
            "Mounted at /content/gdrive\n"
          ],
          "name": "stdout"
        }
      ]
    },
    {
      "cell_type": "markdown",
      "metadata": {
        "id": "Yqv-vc_NqQIf",
        "colab_type": "text"
      },
      "source": [
        "# Importing the dataset "
      ]
    },
    {
      "cell_type": "code",
      "metadata": {
        "id": "Br93k6-ugUcs",
        "colab_type": "code",
        "colab": {
          "base_uri": "https://localhost:8080/",
          "height": 1000
        },
        "outputId": "06381a3d-1fb3-4aca-d687-c4d9e7b6179f"
      },
      "source": [
        "import os\n",
        "from pathlib import Path\n",
        "from keras.preprocessing import image\n",
        "\n",
        "#getting the directory names and filenames from the CV set\n",
        "image_data= []\n",
        "labels={\"no\":0,\"yes\":1}\n",
        "\n",
        "\n",
        "for dirname,_,filenames in os.walk('/content/gdrive/My Drive/dataset (2)/dataset'):\n",
        "  type_of_image = (str(dirname).split('/')[-1])\n",
        "  for filename in filenames:\n",
        "    # print(os.path.join(dirname,filename))\n",
        "    img = image.load_img(os.path.join(dirname,filename),target_size=(256,256))\n",
        "    image_array = image.img_to_array(img)/255\n",
        "    image_data.append((image_array,type_of_image))\n",
        "    # directory of loaded image \n",
        "    print(\"processing image: \" + str(dirname)+\" / \"+str(filename))\n",
        "\n",
        "print(\"data is loaded\")"
      ],
      "execution_count": null,
      "outputs": [
        {
          "output_type": "stream",
          "text": [
            "processing image: /content/gdrive/My Drive/dataset (2)/dataset/no / 23 no.jpg\n",
            "processing image: /content/gdrive/My Drive/dataset (2)/dataset/no / 14 no.jpg\n",
            "processing image: /content/gdrive/My Drive/dataset (2)/dataset/no / 31 no.jpg\n",
            "processing image: /content/gdrive/My Drive/dataset (2)/dataset/no / 37 no.jpg\n",
            "processing image: /content/gdrive/My Drive/dataset (2)/dataset/no / 20 no.jpg\n",
            "processing image: /content/gdrive/My Drive/dataset (2)/dataset/no / 32 no.jpg\n",
            "processing image: /content/gdrive/My Drive/dataset (2)/dataset/no / 15 no.jpg\n",
            "processing image: /content/gdrive/My Drive/dataset (2)/dataset/no / 17 no.jpg\n",
            "processing image: /content/gdrive/My Drive/dataset (2)/dataset/no / 29 no.jpg\n",
            "processing image: /content/gdrive/My Drive/dataset (2)/dataset/no / 3 no.jpg\n",
            "processing image: /content/gdrive/My Drive/dataset (2)/dataset/no / 11 no.jpg\n",
            "processing image: /content/gdrive/My Drive/dataset (2)/dataset/no / 28 no.jpg\n",
            "processing image: /content/gdrive/My Drive/dataset (2)/dataset/no / 10 no.jpg\n",
            "processing image: /content/gdrive/My Drive/dataset (2)/dataset/no / 19 no.jpg\n",
            "processing image: /content/gdrive/My Drive/dataset (2)/dataset/no / 38 no.jpg\n",
            "processing image: /content/gdrive/My Drive/dataset (2)/dataset/no / 30 no.jpg\n",
            "processing image: /content/gdrive/My Drive/dataset (2)/dataset/no / 34 no.jpg\n",
            "processing image: /content/gdrive/My Drive/dataset (2)/dataset/no / 39 no.jpg\n",
            "processing image: /content/gdrive/My Drive/dataset (2)/dataset/no / 24 no.jpg\n",
            "processing image: /content/gdrive/My Drive/dataset (2)/dataset/no / 33 no.jpg\n",
            "processing image: /content/gdrive/My Drive/dataset (2)/dataset/no / 12 no.jpg\n",
            "processing image: /content/gdrive/My Drive/dataset (2)/dataset/no / 35 no.jpg\n",
            "processing image: /content/gdrive/My Drive/dataset (2)/dataset/no / 27 no.jpg\n",
            "processing image: /content/gdrive/My Drive/dataset (2)/dataset/no / 22 no.jpg\n",
            "processing image: /content/gdrive/My Drive/dataset (2)/dataset/no / 1 no.jpeg\n",
            "processing image: /content/gdrive/My Drive/dataset (2)/dataset/no / 18 no.jpg\n",
            "processing image: /content/gdrive/My Drive/dataset (2)/dataset/no / 36 no.jpg\n",
            "processing image: /content/gdrive/My Drive/dataset (2)/dataset/no / 26 no.jpg\n",
            "processing image: /content/gdrive/My Drive/dataset (2)/dataset/no / 21 no.jpg\n",
            "processing image: /content/gdrive/My Drive/dataset (2)/dataset/no / 25 no.jpg\n",
            "processing image: /content/gdrive/My Drive/dataset (2)/dataset/no / 13 no.jpg\n",
            "processing image: /content/gdrive/My Drive/dataset (2)/dataset/no / 2 no.jpeg\n",
            "processing image: /content/gdrive/My Drive/dataset (2)/dataset/no / 41 no.jpg\n",
            "processing image: /content/gdrive/My Drive/dataset (2)/dataset/no / N6.jpg\n",
            "processing image: /content/gdrive/My Drive/dataset (2)/dataset/no / N26.JPG\n",
            "processing image: /content/gdrive/My Drive/dataset (2)/dataset/no / N15.jpg\n",
            "processing image: /content/gdrive/My Drive/dataset (2)/dataset/no / N20.JPG\n",
            "processing image: /content/gdrive/My Drive/dataset (2)/dataset/no / N5.jpg\n",
            "processing image: /content/gdrive/My Drive/dataset (2)/dataset/no / N2.JPG\n",
            "processing image: /content/gdrive/My Drive/dataset (2)/dataset/no / N16.jpg\n",
            "processing image: /content/gdrive/My Drive/dataset (2)/dataset/no / N17.jpg\n",
            "processing image: /content/gdrive/My Drive/dataset (2)/dataset/no / N11.jpg\n",
            "processing image: /content/gdrive/My Drive/dataset (2)/dataset/no / 50 no.jpg\n",
            "processing image: /content/gdrive/My Drive/dataset (2)/dataset/no / 48 no.jpeg\n",
            "processing image: /content/gdrive/My Drive/dataset (2)/dataset/no / 42 no.jpg\n",
            "processing image: /content/gdrive/My Drive/dataset (2)/dataset/no / 45 no.jpg\n",
            "processing image: /content/gdrive/My Drive/dataset (2)/dataset/no / 46 no.jpg\n",
            "processing image: /content/gdrive/My Drive/dataset (2)/dataset/no / N3.jpg\n",
            "processing image: /content/gdrive/My Drive/dataset (2)/dataset/no / 43 no.jpg\n",
            "processing image: /content/gdrive/My Drive/dataset (2)/dataset/no / N21.jpg\n",
            "processing image: /content/gdrive/My Drive/dataset (2)/dataset/no / 8 no.jpg\n",
            "processing image: /content/gdrive/My Drive/dataset (2)/dataset/no / 6 no.jpg\n",
            "processing image: /content/gdrive/My Drive/dataset (2)/dataset/no / no 10.jpg\n",
            "processing image: /content/gdrive/My Drive/dataset (2)/dataset/no / 4 no.jpg\n",
            "processing image: /content/gdrive/My Drive/dataset (2)/dataset/no / 47 no.jpg\n",
            "processing image: /content/gdrive/My Drive/dataset (2)/dataset/no / 9 no.jpg\n",
            "processing image: /content/gdrive/My Drive/dataset (2)/dataset/no / N1.JPG\n",
            "processing image: /content/gdrive/My Drive/dataset (2)/dataset/no / 5 no.jpg\n",
            "processing image: /content/gdrive/My Drive/dataset (2)/dataset/no / 49 no.jpg\n",
            "processing image: /content/gdrive/My Drive/dataset (2)/dataset/no / N19.JPG\n",
            "processing image: /content/gdrive/My Drive/dataset (2)/dataset/no / N22.JPG\n",
            "processing image: /content/gdrive/My Drive/dataset (2)/dataset/no / 44no.jpg\n",
            "processing image: /content/gdrive/My Drive/dataset (2)/dataset/no / 40 no.jpg\n",
            "processing image: /content/gdrive/My Drive/dataset (2)/dataset/no / no 1.jpg\n",
            "processing image: /content/gdrive/My Drive/dataset (2)/dataset/no / 7 no.jpg\n",
            "processing image: /content/gdrive/My Drive/dataset (2)/dataset/no / No15.jpg\n",
            "processing image: /content/gdrive/My Drive/dataset (2)/dataset/no / No16.jpg\n",
            "processing image: /content/gdrive/My Drive/dataset (2)/dataset/no / no 2.jpg\n",
            "processing image: /content/gdrive/My Drive/dataset (2)/dataset/no / no 3.jpg\n",
            "processing image: /content/gdrive/My Drive/dataset (2)/dataset/no / No20.jpg\n",
            "processing image: /content/gdrive/My Drive/dataset (2)/dataset/no / no 95.jpg\n",
            "processing image: /content/gdrive/My Drive/dataset (2)/dataset/no / no 98.jpg\n",
            "processing image: /content/gdrive/My Drive/dataset (2)/dataset/no / No19.jpg\n",
            "processing image: /content/gdrive/My Drive/dataset (2)/dataset/no / no 9.png\n",
            "processing image: /content/gdrive/My Drive/dataset (2)/dataset/no / No13.jpg\n",
            "processing image: /content/gdrive/My Drive/dataset (2)/dataset/no / No14.jpg\n",
            "processing image: /content/gdrive/My Drive/dataset (2)/dataset/no / No11.jpg\n",
            "processing image: /content/gdrive/My Drive/dataset (2)/dataset/no / no 96.jpg\n",
            "processing image: /content/gdrive/My Drive/dataset (2)/dataset/no / no 7.jpeg\n",
            "processing image: /content/gdrive/My Drive/dataset (2)/dataset/no / no 99.jpg\n",
            "processing image: /content/gdrive/My Drive/dataset (2)/dataset/no / No21.jpg\n",
            "processing image: /content/gdrive/My Drive/dataset (2)/dataset/no / no 5.jpeg\n",
            "processing image: /content/gdrive/My Drive/dataset (2)/dataset/no / no 90.jpg\n",
            "processing image: /content/gdrive/My Drive/dataset (2)/dataset/no / No17.jpg\n",
            "processing image: /content/gdrive/My Drive/dataset (2)/dataset/no / no 100.jpg\n",
            "processing image: /content/gdrive/My Drive/dataset (2)/dataset/no / no 94.jpg\n",
            "processing image: /content/gdrive/My Drive/dataset (2)/dataset/no / no 91.jpeg\n",
            "processing image: /content/gdrive/My Drive/dataset (2)/dataset/no / No18.jpg\n",
            "processing image: /content/gdrive/My Drive/dataset (2)/dataset/no / no 89.jpg\n",
            "processing image: /content/gdrive/My Drive/dataset (2)/dataset/no / no 8.jpg\n",
            "processing image: /content/gdrive/My Drive/dataset (2)/dataset/no / no 92.jpg\n",
            "processing image: /content/gdrive/My Drive/dataset (2)/dataset/no / no 97.jpg\n",
            "processing image: /content/gdrive/My Drive/dataset (2)/dataset/no / no 6.jpg\n",
            "processing image: /content/gdrive/My Drive/dataset (2)/dataset/no / no.jpg\n",
            "processing image: /content/gdrive/My Drive/dataset (2)/dataset/no / no 4.jpg\n",
            "processing image: /content/gdrive/My Drive/dataset (2)/dataset/no / No12.jpg\n",
            "processing image: /content/gdrive/My Drive/dataset (2)/dataset/no / no 923.jpg\n",
            "processing image: /content/gdrive/My Drive/dataset (2)/dataset/no / No22.jpg\n",
            "processing image: /content/gdrive/My Drive/dataset (2)/dataset/yes / Y100.JPG\n",
            "processing image: /content/gdrive/My Drive/dataset (2)/dataset/yes / Y109.JPG\n",
            "processing image: /content/gdrive/My Drive/dataset (2)/dataset/yes / Y103.jpg\n",
            "processing image: /content/gdrive/My Drive/dataset (2)/dataset/yes / Y104.jpg\n",
            "processing image: /content/gdrive/My Drive/dataset (2)/dataset/yes / Y156.JPG\n",
            "processing image: /content/gdrive/My Drive/dataset (2)/dataset/yes / Y159.JPG\n",
            "processing image: /content/gdrive/My Drive/dataset (2)/dataset/yes / Y154.jpg\n",
            "processing image: /content/gdrive/My Drive/dataset (2)/dataset/yes / Y11.jpg\n",
            "processing image: /content/gdrive/My Drive/dataset (2)/dataset/yes / Y101.jpg\n",
            "processing image: /content/gdrive/My Drive/dataset (2)/dataset/yes / Y117.JPG\n",
            "processing image: /content/gdrive/My Drive/dataset (2)/dataset/yes / Y147.JPG\n",
            "processing image: /content/gdrive/My Drive/dataset (2)/dataset/yes / Y13.jpg\n",
            "processing image: /content/gdrive/My Drive/dataset (2)/dataset/yes / Y113.JPG\n",
            "processing image: /content/gdrive/My Drive/dataset (2)/dataset/yes / Y116.JPG\n",
            "processing image: /content/gdrive/My Drive/dataset (2)/dataset/yes / Y108.jpg\n",
            "processing image: /content/gdrive/My Drive/dataset (2)/dataset/yes / Y1.jpg\n",
            "processing image: /content/gdrive/My Drive/dataset (2)/dataset/yes / Y120.JPG\n",
            "processing image: /content/gdrive/My Drive/dataset (2)/dataset/yes / Y105.jpg\n",
            "processing image: /content/gdrive/My Drive/dataset (2)/dataset/yes / Y15.jpg\n",
            "processing image: /content/gdrive/My Drive/dataset (2)/dataset/yes / Y146.JPG\n",
            "processing image: /content/gdrive/My Drive/dataset (2)/dataset/yes / Y10.jpg\n",
            "processing image: /content/gdrive/My Drive/dataset (2)/dataset/yes / Y153.jpg\n",
            "processing image: /content/gdrive/My Drive/dataset (2)/dataset/yes / Y111.JPG\n",
            "processing image: /content/gdrive/My Drive/dataset (2)/dataset/yes / Y157.JPG\n",
            "processing image: /content/gdrive/My Drive/dataset (2)/dataset/yes / Y102.jpg\n",
            "processing image: /content/gdrive/My Drive/dataset (2)/dataset/yes / Y155.JPG\n",
            "processing image: /content/gdrive/My Drive/dataset (2)/dataset/yes / Y14.jpg\n",
            "processing image: /content/gdrive/My Drive/dataset (2)/dataset/yes / Y106.jpg\n",
            "processing image: /content/gdrive/My Drive/dataset (2)/dataset/yes / Y158.JPG\n",
            "processing image: /content/gdrive/My Drive/dataset (2)/dataset/yes / Y115.JPG\n",
            "processing image: /content/gdrive/My Drive/dataset (2)/dataset/yes / Y114.JPG\n",
            "processing image: /content/gdrive/My Drive/dataset (2)/dataset/yes / Y112.JPG\n",
            "processing image: /content/gdrive/My Drive/dataset (2)/dataset/yes / Y12.jpg\n",
            "processing image: /content/gdrive/My Drive/dataset (2)/dataset/yes / Y148.JPG\n",
            "processing image: /content/gdrive/My Drive/dataset (2)/dataset/yes / Y107.jpg\n",
            "processing image: /content/gdrive/My Drive/dataset (2)/dataset/yes / Y24.jpg\n",
            "processing image: /content/gdrive/My Drive/dataset (2)/dataset/yes / Y23.JPG\n",
            "processing image: /content/gdrive/My Drive/dataset (2)/dataset/yes / Y182.JPG\n",
            "processing image: /content/gdrive/My Drive/dataset (2)/dataset/yes / Y195.JPG\n",
            "processing image: /content/gdrive/My Drive/dataset (2)/dataset/yes / Y193.JPG\n",
            "processing image: /content/gdrive/My Drive/dataset (2)/dataset/yes / Y18.JPG\n",
            "processing image: /content/gdrive/My Drive/dataset (2)/dataset/yes / Y161.JPG\n",
            "processing image: /content/gdrive/My Drive/dataset (2)/dataset/yes / Y188.jpg\n",
            "processing image: /content/gdrive/My Drive/dataset (2)/dataset/yes / Y17.jpg\n",
            "processing image: /content/gdrive/My Drive/dataset (2)/dataset/yes / Y180.jpg\n",
            "processing image: /content/gdrive/My Drive/dataset (2)/dataset/yes / Y169.jpg\n",
            "processing image: /content/gdrive/My Drive/dataset (2)/dataset/yes / Y163.JPG\n",
            "processing image: /content/gdrive/My Drive/dataset (2)/dataset/yes / Y242.JPG\n",
            "processing image: /content/gdrive/My Drive/dataset (2)/dataset/yes / Y185.jpg\n",
            "processing image: /content/gdrive/My Drive/dataset (2)/dataset/yes / Y192.JPG\n",
            "processing image: /content/gdrive/My Drive/dataset (2)/dataset/yes / Y19.JPG\n",
            "processing image: /content/gdrive/My Drive/dataset (2)/dataset/yes / Y16.JPG\n",
            "processing image: /content/gdrive/My Drive/dataset (2)/dataset/yes / Y170.JPG\n",
            "processing image: /content/gdrive/My Drive/dataset (2)/dataset/yes / Y165.JPG\n",
            "processing image: /content/gdrive/My Drive/dataset (2)/dataset/yes / Y186.jpg\n",
            "processing image: /content/gdrive/My Drive/dataset (2)/dataset/yes / Y181.jpg\n",
            "processing image: /content/gdrive/My Drive/dataset (2)/dataset/yes / Y162.jpg\n",
            "processing image: /content/gdrive/My Drive/dataset (2)/dataset/yes / Y187.jpg\n",
            "processing image: /content/gdrive/My Drive/dataset (2)/dataset/yes / Y164.JPG\n",
            "processing image: /content/gdrive/My Drive/dataset (2)/dataset/yes / Y20.jpg\n",
            "processing image: /content/gdrive/My Drive/dataset (2)/dataset/yes / Y160.JPG\n",
            "processing image: /content/gdrive/My Drive/dataset (2)/dataset/yes / Y22.jpg\n",
            "processing image: /content/gdrive/My Drive/dataset (2)/dataset/yes / Y166.JPG\n",
            "processing image: /content/gdrive/My Drive/dataset (2)/dataset/yes / Y194.jpg\n",
            "processing image: /content/gdrive/My Drive/dataset (2)/dataset/yes / Y167.JPG\n",
            "processing image: /content/gdrive/My Drive/dataset (2)/dataset/yes / Y2.jpg\n",
            "processing image: /content/gdrive/My Drive/dataset (2)/dataset/yes / Y21.jpg\n",
            "processing image: /content/gdrive/My Drive/dataset (2)/dataset/yes / Y184.JPG\n",
            "processing image: /content/gdrive/My Drive/dataset (2)/dataset/yes / Y168.jpg\n",
            "processing image: /content/gdrive/My Drive/dataset (2)/dataset/yes / Y183.jpg\n",
            "processing image: /content/gdrive/My Drive/dataset (2)/dataset/yes / Y40.JPG\n",
            "processing image: /content/gdrive/My Drive/dataset (2)/dataset/yes / Y243.JPG\n",
            "processing image: /content/gdrive/My Drive/dataset (2)/dataset/yes / Y37.jpg\n",
            "processing image: /content/gdrive/My Drive/dataset (2)/dataset/yes / Y39.jpg\n",
            "processing image: /content/gdrive/My Drive/dataset (2)/dataset/yes / Y253.JPG\n",
            "processing image: /content/gdrive/My Drive/dataset (2)/dataset/yes / Y255.JPG\n",
            "processing image: /content/gdrive/My Drive/dataset (2)/dataset/yes / Y30.jpg\n",
            "processing image: /content/gdrive/My Drive/dataset (2)/dataset/yes / Y254.jpg\n",
            "processing image: /content/gdrive/My Drive/dataset (2)/dataset/yes / Y250.jpg\n",
            "processing image: /content/gdrive/My Drive/dataset (2)/dataset/yes / Y258.JPG\n",
            "processing image: /content/gdrive/My Drive/dataset (2)/dataset/yes / Y4.jpg\n",
            "processing image: /content/gdrive/My Drive/dataset (2)/dataset/yes / Y27.jpg\n",
            "processing image: /content/gdrive/My Drive/dataset (2)/dataset/yes / Y25.jpg\n",
            "processing image: /content/gdrive/My Drive/dataset (2)/dataset/yes / Y32.jpg\n",
            "processing image: /content/gdrive/My Drive/dataset (2)/dataset/yes / Y28.jpg\n",
            "processing image: /content/gdrive/My Drive/dataset (2)/dataset/yes / Y246.JPG\n",
            "processing image: /content/gdrive/My Drive/dataset (2)/dataset/yes / Y256.JPG\n",
            "processing image: /content/gdrive/My Drive/dataset (2)/dataset/yes / Y252.jpg\n",
            "processing image: /content/gdrive/My Drive/dataset (2)/dataset/yes / Y34.jpg\n",
            "processing image: /content/gdrive/My Drive/dataset (2)/dataset/yes / Y36.JPG\n",
            "processing image: /content/gdrive/My Drive/dataset (2)/dataset/yes / Y244.JPG\n",
            "processing image: /content/gdrive/My Drive/dataset (2)/dataset/yes / Y35.jpg\n",
            "processing image: /content/gdrive/My Drive/dataset (2)/dataset/yes / Y38.jpg\n",
            "processing image: /content/gdrive/My Drive/dataset (2)/dataset/yes / Y248.JPG\n",
            "processing image: /content/gdrive/My Drive/dataset (2)/dataset/yes / Y257.jpg\n",
            "processing image: /content/gdrive/My Drive/dataset (2)/dataset/yes / Y249.JPG\n",
            "processing image: /content/gdrive/My Drive/dataset (2)/dataset/yes / Y31.jpg\n",
            "processing image: /content/gdrive/My Drive/dataset (2)/dataset/yes / Y41.jpg\n",
            "processing image: /content/gdrive/My Drive/dataset (2)/dataset/yes / Y33.jpg\n",
            "processing image: /content/gdrive/My Drive/dataset (2)/dataset/yes / Y26.jpg\n",
            "processing image: /content/gdrive/My Drive/dataset (2)/dataset/yes / Y245.jpg\n",
            "processing image: /content/gdrive/My Drive/dataset (2)/dataset/yes / Y251.JPG\n",
            "processing image: /content/gdrive/My Drive/dataset (2)/dataset/yes / Y247.JPG\n",
            "processing image: /content/gdrive/My Drive/dataset (2)/dataset/yes / Y259.JPG\n",
            "processing image: /content/gdrive/My Drive/dataset (2)/dataset/yes / Y29.jpg\n",
            "processing image: /content/gdrive/My Drive/dataset (2)/dataset/yes / Y3.jpg\n",
            "processing image: /content/gdrive/My Drive/dataset (2)/dataset/yes / Y42.jpg\n",
            "processing image: /content/gdrive/My Drive/dataset (2)/dataset/yes / Y51.jpg\n",
            "processing image: /content/gdrive/My Drive/dataset (2)/dataset/yes / Y54.jpg\n",
            "processing image: /content/gdrive/My Drive/dataset (2)/dataset/yes / Y45.JPG\n",
            "processing image: /content/gdrive/My Drive/dataset (2)/dataset/yes / Y46.jpg\n",
            "processing image: /content/gdrive/My Drive/dataset (2)/dataset/yes / Y67.JPG\n",
            "processing image: /content/gdrive/My Drive/dataset (2)/dataset/yes / Y74.jpg\n",
            "processing image: /content/gdrive/My Drive/dataset (2)/dataset/yes / Y47.JPG\n",
            "processing image: /content/gdrive/My Drive/dataset (2)/dataset/yes / Y66.JPG\n",
            "processing image: /content/gdrive/My Drive/dataset (2)/dataset/yes / Y55.jpg\n",
            "processing image: /content/gdrive/My Drive/dataset (2)/dataset/yes / Y71.JPG\n",
            "processing image: /content/gdrive/My Drive/dataset (2)/dataset/yes / Y50.JPG\n",
            "processing image: /content/gdrive/My Drive/dataset (2)/dataset/yes / Y8.jpg\n",
            "processing image: /content/gdrive/My Drive/dataset (2)/dataset/yes / Y69.jpg\n",
            "processing image: /content/gdrive/My Drive/dataset (2)/dataset/yes / Y6.jpg\n",
            "processing image: /content/gdrive/My Drive/dataset (2)/dataset/yes / Y49.JPG\n",
            "processing image: /content/gdrive/My Drive/dataset (2)/dataset/yes / Y76.jpg\n",
            "processing image: /content/gdrive/My Drive/dataset (2)/dataset/yes / Y81.jpg\n",
            "processing image: /content/gdrive/My Drive/dataset (2)/dataset/yes / Y62.jpg\n",
            "processing image: /content/gdrive/My Drive/dataset (2)/dataset/yes / Y65.JPG\n",
            "processing image: /content/gdrive/My Drive/dataset (2)/dataset/yes / Y52.jpg\n",
            "processing image: /content/gdrive/My Drive/dataset (2)/dataset/yes / Y61.jpg\n",
            "processing image: /content/gdrive/My Drive/dataset (2)/dataset/yes / Y78.jpg\n",
            "processing image: /content/gdrive/My Drive/dataset (2)/dataset/yes / Y44.JPG\n",
            "processing image: /content/gdrive/My Drive/dataset (2)/dataset/yes / Y60.jpg\n",
            "processing image: /content/gdrive/My Drive/dataset (2)/dataset/yes / Y56.jpg\n",
            "processing image: /content/gdrive/My Drive/dataset (2)/dataset/yes / Y70.jpg\n",
            "processing image: /content/gdrive/My Drive/dataset (2)/dataset/yes / Y75.JPG\n",
            "processing image: /content/gdrive/My Drive/dataset (2)/dataset/yes / Y59.JPG\n",
            "processing image: /content/gdrive/My Drive/dataset (2)/dataset/yes / Y53.jpg\n",
            "processing image: /content/gdrive/My Drive/dataset (2)/dataset/yes / Y77.jpg\n",
            "processing image: /content/gdrive/My Drive/dataset (2)/dataset/yes / Y73.jpg\n",
            "processing image: /content/gdrive/My Drive/dataset (2)/dataset/yes / Y79.jpg\n",
            "processing image: /content/gdrive/My Drive/dataset (2)/dataset/yes / Y7.jpg\n",
            "processing image: /content/gdrive/My Drive/dataset (2)/dataset/yes / Y58.JPG\n",
            "processing image: /content/gdrive/My Drive/dataset (2)/dataset/yes / Y91.jpg\n",
            "processing image: /content/gdrive/My Drive/dataset (2)/dataset/yes / Y89.JPG\n",
            "processing image: /content/gdrive/My Drive/dataset (2)/dataset/yes / Y92.png\n",
            "processing image: /content/gdrive/My Drive/dataset (2)/dataset/yes / Y97.JPG\n",
            "processing image: /content/gdrive/My Drive/dataset (2)/dataset/yes / Y82.jpg\n",
            "processing image: /content/gdrive/My Drive/dataset (2)/dataset/yes / Y85.JPG\n",
            "processing image: /content/gdrive/My Drive/dataset (2)/dataset/yes / Y90.jpg\n",
            "processing image: /content/gdrive/My Drive/dataset (2)/dataset/yes / Y9.jpg\n",
            "processing image: /content/gdrive/My Drive/dataset (2)/dataset/yes / Y96.jpg\n",
            "processing image: /content/gdrive/My Drive/dataset (2)/dataset/yes / Y98.JPG\n",
            "processing image: /content/gdrive/My Drive/dataset (2)/dataset/yes / Y95.jpg\n",
            "processing image: /content/gdrive/My Drive/dataset (2)/dataset/yes / Y86.JPG\n",
            "processing image: /content/gdrive/My Drive/dataset (2)/dataset/yes / Y99.JPG\n",
            "processing image: /content/gdrive/My Drive/dataset (2)/dataset/yes / Y92.jpg\n",
            "data is loaded\n"
          ],
          "name": "stdout"
        }
      ]
    },
    {
      "cell_type": "code",
      "metadata": {
        "id": "HtPJR7ZyhUf7",
        "colab_type": "code",
        "colab": {
          "base_uri": "https://localhost:8080/",
          "height": 34
        },
        "outputId": "b11826fe-4909-444b-c800-1390584ee0e0"
      },
      "source": [
        "print(\"number of trainning images =\",end=\" \")\n",
        "print(len(image_data))"
      ],
      "execution_count": null,
      "outputs": [
        {
          "output_type": "stream",
          "text": [
            "number of trainning images = 253\n"
          ],
          "name": "stdout"
        }
      ]
    },
    {
      "cell_type": "markdown",
      "metadata": {
        "id": "vxfYdSQwqyJy",
        "colab_type": "text"
      },
      "source": [
        "# Data Preprocessing "
      ]
    },
    {
      "cell_type": "code",
      "metadata": {
        "id": "YcC2SrcfhskS",
        "colab_type": "code",
        "colab": {}
      },
      "source": [
        "import random \n",
        "random.seed(1)\n",
        "# random shuffling of image data \n",
        "random.shuffle(image_data)\n",
        "train = image_data[:int(0.90*len(image_data))]\n",
        "validation = image_data[int(0.90*len(image_data)):]"
      ],
      "execution_count": null,
      "outputs": []
    },
    {
      "cell_type": "code",
      "metadata": {
        "id": "r4LExvLyhyG0",
        "colab_type": "code",
        "colab": {
          "base_uri": "https://localhost:8080/",
          "height": 85
        },
        "outputId": "754a7889-ce39-4ca4-e7d6-2b8a6bea06a0"
      },
      "source": [
        "# Spliting of x_train and y_train \n",
        "x_train = np.asarray([data[0] for data in train])\n",
        "y_train_decoded = np.asarray([labels[data[1]] for data in train])\n",
        "y_train = tf.keras.utils.to_categorical(y_train_decoded) # encoding to one hot vector \n",
        "# Spliting of x_val and y_val \n",
        "x_val = np.asarray([data[0] for data in validation])\n",
        "y_val_decoded = np.asarray([labels[data[1]] for data in validation])\n",
        "y_val = tf.keras.utils.to_categorical(y_val_decoded)  # encoding to one hot vector \n",
        "print(len(x_train))\n",
        "print(len(y_train))\n",
        "print(len(x_val))\n",
        "print(len(y_val))"
      ],
      "execution_count": null,
      "outputs": [
        {
          "output_type": "stream",
          "text": [
            "227\n",
            "227\n",
            "26\n",
            "26\n"
          ],
          "name": "stdout"
        }
      ]
    },
    {
      "cell_type": "code",
      "metadata": {
        "id": "Cf1UUf-_iHv8",
        "colab_type": "code",
        "colab": {
          "base_uri": "https://localhost:8080/",
          "height": 299
        },
        "outputId": "6ea67562-59e3-4ce4-cf3f-579c33a7d5ac"
      },
      "source": [
        "from collections import Counter \n",
        "import matplotlib.pyplot as plt\n",
        "plt.hist(y_train_decoded)\n",
        "plt.plot()\n",
        "print(Counter(y_train_decoded))\n",
        "plt.hist(y_val_decoded)\n",
        "plt.plot()\n",
        "print(Counter(y_val_decoded))"
      ],
      "execution_count": null,
      "outputs": [
        {
          "output_type": "stream",
          "text": [
            "Counter({1: 137, 0: 90})\n",
            "Counter({1: 18, 0: 8})\n"
          ],
          "name": "stdout"
        },
        {
          "output_type": "display_data",
          "data": {
            "image/png": "[encoded data removed]",
            "text/plain": [
              "<Figure size 432x288 with 1 Axes>"
            ]
          },
          "metadata": {
            "tags": [],
            "needs_background": "light"
          }
        }
      ]
    },
    {
      "cell_type": "code",
      "metadata": {
        "id": "smHj7TrjiPqL",
        "colab_type": "code",
        "colab": {
          "base_uri": "https://localhost:8080/",
          "height": 286
        },
        "outputId": "27903f35-bb63-46b2-a59a-108a28f7c054"
      },
      "source": [
        "# printing a trainning image \n",
        "plt.imshow(image_data[8][0])\n",
        "print(image_data[8][1])"
      ],
      "execution_count": null,
      "outputs": [
        {
          "output_type": "stream",
          "text": [
            "yes\n"
          ],
          "name": "stdout"
        },
        {
          "output_type": "display_data",
          "data": {
            "image/png": "[encoded data removed]",
            "text/plain": [
              "<Figure size 432x288 with 1 Axes>"
            ]
          },
          "metadata": {
            "tags": [],
            "needs_background": "light"
          }
        }
      ]
    },
    {
      "cell_type": "code",
      "metadata": {
        "id": "Ar61qALsiYmo",
        "colab_type": "code",
        "colab": {
          "base_uri": "https://localhost:8080/",
          "height": 629
        },
        "outputId": "9b82ee7c-c609-40a7-d9cc-168444b2a0b7"
      },
      "source": [
        "\n",
        "from tensorflow.keras import layers, models\n",
        "\n",
        "model = models.Sequential()\n",
        "model.add(layers.Conv2D(32, (3, 3), activation='relu', input_shape=(256,256, 3)))\n",
        "model.add(layers.MaxPooling2D((2, 2)))\n",
        "model.add(layers.Conv2D(64, (3, 3), activation='relu'))\n",
        "model.add(layers.MaxPooling2D((2, 2)))\n",
        "model.add(layers.Conv2D(128, (3, 3), activation='relu'))\n",
        "model.add(tf.keras.layers.Dropout(0.25))\n",
        "model.add(layers.Flatten())\n",
        "model.add(layers.Dense(256, activation='relu'))\n",
        "model.add(tf.keras.layers.Dropout(0.25))\n",
        "model.add(layers.Dense(128, activation='relu'))\n",
        "model.add(tf.keras.layers.Dropout(0.25))\n",
        "model.add(layers.Dense(64, activation='relu'))\n",
        "model.add(layers.Dense(32, activation='relu'))\n",
        "model.add(layers.Dense(2,  activation='softmax'))\n",
        "\n",
        "model.summary()"
      ],
      "execution_count": null,
      "outputs": [
        {
          "output_type": "stream",
          "text": [
            "Model: \"sequential\"\n",
            "_________________________________________________________________\n",
            "Layer (type)                 Output Shape              Param #   \n",
            "=================================================================\n",
            "conv2d (Conv2D)              (None, 254, 254, 32)      896       \n",
            "_________________________________________________________________\n",
            "max_pooling2d (MaxPooling2D) (None, 127, 127, 32)      0         \n",
            "_________________________________________________________________\n",
            "conv2d_1 (Conv2D)            (None, 125, 125, 64)      18496     \n",
            "_________________________________________________________________\n",
            "max_pooling2d_1 (MaxPooling2 (None, 62, 62, 64)        0         \n",
            "_________________________________________________________________\n",
            "conv2d_2 (Conv2D)            (None, 60, 60, 128)       73856     \n",
            "_________________________________________________________________\n",
            "dropout (Dropout)            (None, 60, 60, 128)       0         \n",
            "_________________________________________________________________\n",
            "flatten (Flatten)            (None, 460800)            0         \n",
            "_________________________________________________________________\n",
            "dense (Dense)                (None, 256)               117965056 \n",
            "_________________________________________________________________\n",
            "dropout_1 (Dropout)          (None, 256)               0         \n",
            "_________________________________________________________________\n",
            "dense_1 (Dense)              (None, 128)               32896     \n",
            "_________________________________________________________________\n",
            "dropout_2 (Dropout)          (None, 128)               0         \n",
            "_________________________________________________________________\n",
            "dense_2 (Dense)              (None, 64)                8256      \n",
            "_________________________________________________________________\n",
            "dense_3 (Dense)              (None, 32)                2080      \n",
            "_________________________________________________________________\n",
            "dense_4 (Dense)              (None, 2)                 66        \n",
            "=================================================================\n",
            "Total params: 118,101,602\n",
            "Trainable params: 118,101,602\n",
            "Non-trainable params: 0\n",
            "_________________________________________________________________\n"
          ],
          "name": "stdout"
        }
      ]
    },
    {
      "cell_type": "code",
      "metadata": {
        "id": "RrEZlMhIid0x",
        "colab_type": "code",
        "colab": {}
      },
      "source": [
        "from tensorflow.keras.preprocessing.image  import ImageDataGenerator \n",
        "datagen = ImageDataGenerator(\n",
        "        featurewise_center=False,  # set input mean to 0 over the dataset\n",
        "        samplewise_center=False,  # set each sample mean to 0\n",
        "        featurewise_std_normalization=False,  # divide inputs by std of the dataset\n",
        "        samplewise_std_normalization=False,  # divide each input by its std\n",
        "        zca_whitening=False,  # apply ZCA whitening\n",
        "        rotation_range=10,  # randomly rotate images in the range (degrees, 0 to 180)\n",
        "        zoom_range = 0.1, # Randomly zoom image \n",
        "        width_shift_range=0.1,  # randomly shift images horizontally (fraction of total width)\n",
        "        height_shift_range=0.1,  # randomly shift images vertically (fraction of total height)\n",
        "        horizontal_flip= True,  # randomly flip images\n",
        "        vertical_flip= True )  # randomly flip images\n",
        "\n",
        "\n",
        "datagen.fit(x_train)"
      ],
      "execution_count": null,
      "outputs": []
    },
    {
      "cell_type": "code",
      "metadata": {
        "id": "yFNR4MlMiob9",
        "colab_type": "code",
        "colab": {}
      },
      "source": [
        "model.compile(optimizer = 'adam' , loss = \"categorical_crossentropy\", metrics=[\"accuracy\"])\n"
      ],
      "execution_count": null,
      "outputs": []
    },
    {
      "cell_type": "code",
      "metadata": {
        "id": "HYPoknR4lylZ",
        "colab_type": "code",
        "colab": {
          "base_uri": "https://localhost:8080/",
          "height": 1000
        },
        "outputId": "2284d6f7-cb39-446c-c5c2-2f5dba4cfea3"
      },
      "source": [
        "history = model.fit(datagen.flow(x_train,y_train, batch_size=86),\n",
        "                              epochs = 60, validation_data = (x_val,y_val))\n"
      ],
      "execution_count": null,
      "outputs": [
        {
          "output_type": "stream",
          "text": [
            "Epoch 1/60\n",
            "3/3 [==============================] - 21s 7s/step - loss: 0.6709 - accuracy: 0.6035 - val_loss: 0.5942 - val_accuracy: 0.6923\n",
            "Epoch 2/60\n",
            "3/3 [==============================] - 25s 8s/step - loss: 0.6630 - accuracy: 0.5859 - val_loss: 0.5772 - val_accuracy: 0.6923\n",
            "Epoch 3/60\n",
            "3/3 [==============================] - 22s 7s/step - loss: 0.6262 - accuracy: 0.6123 - val_loss: 0.4736 - val_accuracy: 0.9231\n",
            "Epoch 4/60\n",
            "3/3 [==============================] - 22s 7s/step - loss: 0.5776 - accuracy: 0.6652 - val_loss: 0.3917 - val_accuracy: 0.8462\n",
            "Epoch 5/60\n",
            "3/3 [==============================] - 25s 8s/step - loss: 0.5073 - accuracy: 0.7753 - val_loss: 0.2822 - val_accuracy: 0.8462\n",
            "Epoch 6/60\n",
            "3/3 [==============================] - 21s 7s/step - loss: 0.4940 - accuracy: 0.7841 - val_loss: 0.6272 - val_accuracy: 0.6923\n",
            "Epoch 7/60\n",
            "3/3 [==============================] - 25s 8s/step - loss: 0.5022 - accuracy: 0.7577 - val_loss: 0.3868 - val_accuracy: 0.8462\n",
            "Epoch 8/60\n",
            "3/3 [==============================] - 21s 7s/step - loss: 0.4829 - accuracy: 0.7665 - val_loss: 0.4988 - val_accuracy: 0.7308\n",
            "Epoch 9/60\n",
            "3/3 [==============================] - 25s 8s/step - loss: 0.4385 - accuracy: 0.8326 - val_loss: 0.4488 - val_accuracy: 0.8077\n",
            "Epoch 10/60\n",
            "3/3 [==============================] - 21s 7s/step - loss: 0.4106 - accuracy: 0.7930 - val_loss: 0.3870 - val_accuracy: 0.8462\n",
            "Epoch 11/60\n",
            "3/3 [==============================] - 25s 8s/step - loss: 0.4924 - accuracy: 0.7753 - val_loss: 0.3373 - val_accuracy: 0.8462\n",
            "Epoch 12/60\n",
            "3/3 [==============================] - 21s 7s/step - loss: 0.4160 - accuracy: 0.8282 - val_loss: 0.3398 - val_accuracy: 0.8462\n",
            "Epoch 13/60\n",
            "3/3 [==============================] - 21s 7s/step - loss: 0.3965 - accuracy: 0.8458 - val_loss: 0.3429 - val_accuracy: 0.8462\n",
            "Epoch 14/60\n",
            "3/3 [==============================] - 21s 7s/step - loss: 0.4093 - accuracy: 0.8238 - val_loss: 0.2448 - val_accuracy: 0.8846\n",
            "Epoch 15/60\n",
            "3/3 [==============================] - 21s 7s/step - loss: 0.4313 - accuracy: 0.8282 - val_loss: 0.2135 - val_accuracy: 0.8462\n",
            "Epoch 16/60\n",
            "3/3 [==============================] - 21s 7s/step - loss: 0.4358 - accuracy: 0.7797 - val_loss: 0.3268 - val_accuracy: 0.8462\n",
            "Epoch 17/60\n",
            "3/3 [==============================] - 21s 7s/step - loss: 0.4186 - accuracy: 0.8238 - val_loss: 0.4939 - val_accuracy: 0.8462\n",
            "Epoch 18/60\n",
            "3/3 [==============================] - 21s 7s/step - loss: 0.3897 - accuracy: 0.8238 - val_loss: 0.4053 - val_accuracy: 0.8462\n",
            "Epoch 19/60\n",
            "3/3 [==============================] - 20s 7s/step - loss: 0.3422 - accuracy: 0.8458 - val_loss: 0.4050 - val_accuracy: 0.8462\n",
            "Epoch 20/60\n",
            "3/3 [==============================] - 21s 7s/step - loss: 0.3763 - accuracy: 0.8282 - val_loss: 0.3905 - val_accuracy: 0.8462\n",
            "Epoch 21/60\n",
            "3/3 [==============================] - 22s 7s/step - loss: 0.4216 - accuracy: 0.8502 - val_loss: 0.6054 - val_accuracy: 0.8077\n",
            "Epoch 22/60\n",
            "3/3 [==============================] - 21s 7s/step - loss: 0.4183 - accuracy: 0.8502 - val_loss: 0.2177 - val_accuracy: 0.9231\n",
            "Epoch 23/60\n",
            "3/3 [==============================] - 25s 8s/step - loss: 0.3796 - accuracy: 0.8150 - val_loss: 0.2065 - val_accuracy: 0.9615\n",
            "Epoch 24/60\n",
            "3/3 [==============================] - 25s 8s/step - loss: 0.3601 - accuracy: 0.8150 - val_loss: 0.2059 - val_accuracy: 0.9231\n",
            "Epoch 25/60\n",
            "3/3 [==============================] - 21s 7s/step - loss: 0.3373 - accuracy: 0.8458 - val_loss: 0.2823 - val_accuracy: 0.8462\n",
            "Epoch 26/60\n",
            "3/3 [==============================] - 21s 7s/step - loss: 0.3147 - accuracy: 0.8634 - val_loss: 0.2438 - val_accuracy: 0.8462\n",
            "Epoch 27/60\n",
            "3/3 [==============================] - 25s 8s/step - loss: 0.3092 - accuracy: 0.8458 - val_loss: 0.2661 - val_accuracy: 0.8462\n",
            "Epoch 28/60\n",
            "3/3 [==============================] - 25s 8s/step - loss: 0.3071 - accuracy: 0.8634 - val_loss: 0.3508 - val_accuracy: 0.8846\n",
            "Epoch 29/60\n",
            "3/3 [==============================] - 25s 8s/step - loss: 0.2758 - accuracy: 0.8943 - val_loss: 0.2700 - val_accuracy: 0.8462\n",
            "Epoch 30/60\n",
            "3/3 [==============================] - 25s 8s/step - loss: 0.3162 - accuracy: 0.8458 - val_loss: 0.2899 - val_accuracy: 0.8846\n",
            "Epoch 31/60\n",
            "3/3 [==============================] - 25s 8s/step - loss: 0.2899 - accuracy: 0.8811 - val_loss: 0.3385 - val_accuracy: 0.8462\n",
            "Epoch 32/60\n",
            "3/3 [==============================] - 21s 7s/step - loss: 0.3073 - accuracy: 0.8546 - val_loss: 0.2925 - val_accuracy: 0.8462\n",
            "Epoch 33/60\n",
            "3/3 [==============================] - 21s 7s/step - loss: 0.2719 - accuracy: 0.8678 - val_loss: 0.1647 - val_accuracy: 0.9231\n",
            "Epoch 34/60\n",
            "3/3 [==============================] - 21s 7s/step - loss: 0.3695 - accuracy: 0.8370 - val_loss: 0.2393 - val_accuracy: 0.8077\n",
            "Epoch 35/60\n",
            "3/3 [==============================] - 25s 8s/step - loss: 0.2770 - accuracy: 0.8987 - val_loss: 0.2437 - val_accuracy: 0.8077\n",
            "Epoch 36/60\n",
            "3/3 [==============================] - 22s 7s/step - loss: 0.2584 - accuracy: 0.8899 - val_loss: 0.1946 - val_accuracy: 0.9231\n",
            "Epoch 37/60\n",
            "3/3 [==============================] - 21s 7s/step - loss: 0.3313 - accuracy: 0.8678 - val_loss: 0.2189 - val_accuracy: 0.8462\n",
            "Epoch 38/60\n",
            "3/3 [==============================] - 25s 8s/step - loss: 0.3161 - accuracy: 0.8811 - val_loss: 0.2987 - val_accuracy: 0.8462\n",
            "Epoch 39/60\n",
            "3/3 [==============================] - 21s 7s/step - loss: 0.3223 - accuracy: 0.8722 - val_loss: 0.2891 - val_accuracy: 0.8462\n",
            "Epoch 40/60\n",
            "3/3 [==============================] - 26s 9s/step - loss: 0.2540 - accuracy: 0.8899 - val_loss: 0.3033 - val_accuracy: 0.8846\n",
            "Epoch 41/60\n",
            "3/3 [==============================] - 21s 7s/step - loss: 0.2399 - accuracy: 0.8987 - val_loss: 0.1824 - val_accuracy: 0.9231\n",
            "Epoch 42/60\n",
            "3/3 [==============================] - 21s 7s/step - loss: 0.3096 - accuracy: 0.8767 - val_loss: 0.2140 - val_accuracy: 0.8846\n",
            "Epoch 43/60\n",
            "3/3 [==============================] - 21s 7s/step - loss: 0.2545 - accuracy: 0.9075 - val_loss: 0.1782 - val_accuracy: 0.9615\n",
            "Epoch 44/60\n",
            "3/3 [==============================] - 21s 7s/step - loss: 0.2563 - accuracy: 0.8811 - val_loss: 0.1860 - val_accuracy: 0.8846\n",
            "Epoch 45/60\n",
            "3/3 [==============================] - 25s 8s/step - loss: 0.2493 - accuracy: 0.8987 - val_loss: 0.1628 - val_accuracy: 0.9231\n",
            "Epoch 46/60\n",
            "3/3 [==============================] - 21s 7s/step - loss: 0.2552 - accuracy: 0.8899 - val_loss: 0.1368 - val_accuracy: 0.9615\n",
            "Epoch 47/60\n",
            "3/3 [==============================] - 22s 7s/step - loss: 0.2334 - accuracy: 0.8943 - val_loss: 0.1373 - val_accuracy: 0.9231\n",
            "Epoch 48/60\n",
            "3/3 [==============================] - 22s 7s/step - loss: 0.2732 - accuracy: 0.8634 - val_loss: 0.2294 - val_accuracy: 0.8846\n",
            "Epoch 49/60\n",
            "3/3 [==============================] - 21s 7s/step - loss: 0.1794 - accuracy: 0.9251 - val_loss: 0.1768 - val_accuracy: 0.9231\n",
            "Epoch 50/60\n",
            "3/3 [==============================] - 21s 7s/step - loss: 0.1789 - accuracy: 0.9163 - val_loss: 0.1368 - val_accuracy: 0.9231\n",
            "Epoch 51/60\n",
            "3/3 [==============================] - 21s 7s/step - loss: 0.1600 - accuracy: 0.9339 - val_loss: 0.5521 - val_accuracy: 0.8462\n",
            "Epoch 52/60\n",
            "3/3 [==============================] - 25s 8s/step - loss: 0.1974 - accuracy: 0.9119 - val_loss: 0.1712 - val_accuracy: 0.9231\n",
            "Epoch 53/60\n",
            "3/3 [==============================] - 25s 8s/step - loss: 0.2466 - accuracy: 0.9119 - val_loss: 0.2135 - val_accuracy: 0.8846\n",
            "Epoch 54/60\n",
            "3/3 [==============================] - 21s 7s/step - loss: 0.2074 - accuracy: 0.9163 - val_loss: 0.2027 - val_accuracy: 0.9231\n",
            "Epoch 55/60\n",
            "3/3 [==============================] - 25s 8s/step - loss: 0.2259 - accuracy: 0.9031 - val_loss: 0.1362 - val_accuracy: 0.9231\n",
            "Epoch 56/60\n",
            "3/3 [==============================] - 22s 7s/step - loss: 0.1980 - accuracy: 0.8987 - val_loss: 0.0860 - val_accuracy: 0.9231\n",
            "Epoch 57/60\n",
            "3/3 [==============================] - 21s 7s/step - loss: 0.1684 - accuracy: 0.9427 - val_loss: 0.1109 - val_accuracy: 0.9615\n",
            "Epoch 58/60\n",
            "3/3 [==============================] - 21s 7s/step - loss: 0.2250 - accuracy: 0.8855 - val_loss: 0.1838 - val_accuracy: 0.9615\n",
            "Epoch 59/60\n",
            "3/3 [==============================] - 21s 7s/step - loss: 0.1925 - accuracy: 0.9119 - val_loss: 0.1229 - val_accuracy: 0.9231\n",
            "Epoch 60/60\n",
            "3/3 [==============================] - 21s 7s/step - loss: 0.2109 - accuracy: 0.9163 - val_loss: 0.1359 - val_accuracy: 0.9231\n"
          ],
          "name": "stdout"
        }
      ]
    },
    {
      "cell_type": "code",
      "metadata": {
        "id": "SDzVvfo1nA5K",
        "colab_type": "code",
        "colab": {
          "base_uri": "https://localhost:8080/",
          "height": 296
        },
        "outputId": "91138fd9-3bd1-424d-fc49-90cdb02ab138"
      },
      "source": [
        "plt.plot(history.history['accuracy'], label='accuracy')\n",
        "plt.plot(history.history['val_accuracy'], label = 'val_accuracy')\n",
        "plt.xlabel('Epoch')\n",
        "plt.ylabel('Accuracy')\n",
        "plt.legend(loc='lower right')\n",
        "\n",
        "test_loss, test_acc = model.evaluate(x_val,  y_val, verbose=2)\n",
        "\n"
      ],
      "execution_count": null,
      "outputs": [
        {
          "output_type": "stream",
          "text": [
            "1/1 - 0s - loss: 0.1359 - accuracy: 0.9231\n"
          ],
          "name": "stdout"
        },
        {
          "output_type": "display_data",
          "data": {
            "image/png": "[encoded data removed]",
            "text/plain": [
              "<Figure size 432x288 with 1 Axes>"
            ]
          },
          "metadata": {
            "tags": [],
            "needs_background": "light"
          }
        }
      ]
    },
    {
      "cell_type": "code",
      "metadata": {
        "id": "tRdmAbyjnIau",
        "colab_type": "code",
        "colab": {
          "base_uri": "https://localhost:8080/",
          "height": 311
        },
        "outputId": "2217c5d9-3971-4c01-ff02-537054fea0ff"
      },
      "source": [
        "import itertools\n",
        "from sklearn.metrics import confusion_matrix\n",
        "def plot_confusion_matrix(cm, classes,\n",
        "                          normalize=False,\n",
        "                          title='Confusion matrix',\n",
        "                          cmap=plt.cm.Blues):\n",
        "    \"\"\"\n",
        "    This function prints and plots the confusion matrix.\n",
        "    Normalization can be applied by setting `normalize=True`.\n",
        "    \"\"\"\n",
        "    plt.imshow(cm, interpolation='nearest', cmap=cmap)\n",
        "    plt.title(title)\n",
        "    plt.colorbar()\n",
        "    tick_marks = np.arange(len(classes))\n",
        "    plt.xticks(tick_marks, classes, rotation=45)\n",
        "    plt.yticks(tick_marks, classes)\n",
        "\n",
        "    if normalize:\n",
        "        cm = cm.astype('float') / cm.sum(axis=1)[:, np.newaxis]\n",
        "\n",
        "    thresh = cm.max() / 2.\n",
        "    for i, j in itertools.product(range(cm.shape[0]), range(cm.shape[1])):\n",
        "        plt.text(j, i, cm[i, j],\n",
        "                 horizontalalignment=\"center\",\n",
        "                 color=\"white\" if cm[i, j] > thresh else \"black\")\n",
        "\n",
        "    plt.tight_layout()\n",
        "    plt.ylabel('True label')\n",
        "    plt.xlabel('Predicted label')\n",
        "# Predict the values from the validation dataset\n",
        "Y_pred = model.predict(x_val)\n",
        "# Convert predictions classes to one hot vectors \n",
        "Y_pred_classes = np.argmax(Y_pred,axis = 1) \n",
        "# Convert validation observations to one hot vectors\n",
        "Y_true = np.argmax(y_val,axis = 1) \n",
        "# compute the confusion matrix\n",
        "confusion_mtx = confusion_matrix(Y_true, Y_pred_classes) \n",
        "# plot the confusion matrix\n",
        "plot_confusion_matrix(confusion_mtx, classes = range(2)) \n",
        "\n"
      ],
      "execution_count": null,
      "outputs": [
        {
          "output_type": "display_data",
          "data": {
            "image/png": "[encoded data removed]",
            "text/plain": [
              "<Figure size 432x288 with 2 Axes>"
            ]
          },
          "metadata": {
            "tags": [],
            "needs_background": "light"
          }
        }
      ]
    },
    {
      "cell_type": "code",
      "metadata": {
        "id": "Fmo5mSkQnPtI",
        "colab_type": "code",
        "colab": {
          "base_uri": "https://localhost:8080/",
          "height": 34
        },
        "outputId": "119781b7-98e7-43fe-d125-6ab22f9aa0b6"
      },
      "source": [
        "test_loss, test_acc = model.evaluate(x_val,  y_val, verbose=1)"
      ],
      "execution_count": null,
      "outputs": [
        {
          "output_type": "stream",
          "text": [
            "1/1 [==============================] - 0s 2ms/step - loss: 0.1359 - accuracy: 0.9231\n"
          ],
          "name": "stdout"
        }
      ]
    },
    {
      "cell_type": "code",
      "metadata": {
        "id": "4dGBfMRHxlpW",
        "colab_type": "code",
        "colab": {
          "base_uri": "https://localhost:8080/",
          "height": 173
        },
        "outputId": "d0353f6c-5308-45be-b5c7-b4332ed81214"
      },
      "source": [
        "model.save(\"model\")\n",
        "print(\"Saved model to disk\") "
      ],
      "execution_count": null,
      "outputs": [
        {
          "output_type": "stream",
          "text": [
            "WARNING:tensorflow:From /usr/local/lib/python3.6/dist-packages/tensorflow/python/training/tracking/tracking.py:111: Model.state_updates (from tensorflow.python.keras.engine.training) is deprecated and will be removed in a future version.\n",
            "Instructions for updating:\n",
            "This property should not be used in TensorFlow 2.0, as updates are applied automatically.\n",
            "WARNING:tensorflow:From /usr/local/lib/python3.6/dist-packages/tensorflow/python/training/tracking/tracking.py:111: Layer.updates (from tensorflow.python.keras.engine.base_layer) is deprecated and will be removed in a future version.\n",
            "Instructions for updating:\n",
            "This property should not be used in TensorFlow 2.0, as updates are applied automatically.\n",
            "INFO:tensorflow:Assets written to: model/assets\n",
            "Saved model to disk\n"
          ],
          "name": "stdout"
        }
      ]
    },
    {
      "cell_type": "code",
      "metadata": {
        "id": "bxU4Khat1FsX",
        "colab_type": "code",
        "colab": {}
      },
      "source": [
        "from tensorflow import keras\n",
        "model = keras.models.load_model('/content/model')"
      ],
      "execution_count": null,
      "outputs": []
    },
    {
      "cell_type": "code",
      "metadata": {
        "id": "Xe0YCw9Q4Z9y",
        "colab_type": "code",
        "colab": {
          "base_uri": "https://localhost:8080/",
          "height": 35
        },
        "outputId": "e65d02bd-d1fe-43e2-b992-5157b2f2ecfe"
      },
      "source": [
        "import shutil\n",
        "shutil.make_archive('model', 'zip', 'model')"
      ],
      "execution_count": null,
      "outputs": [
        {
          "output_type": "execute_result",
          "data": {
            "application/vnd.google.colaboratory.intrinsic+json": {
              "type": "string"
            },
            "text/plain": [
              "'/content/model.zip'"
            ]
          },
          "metadata": {
            "tags": []
          },
          "execution_count": 21
        }
      ]
    }
  ]
}